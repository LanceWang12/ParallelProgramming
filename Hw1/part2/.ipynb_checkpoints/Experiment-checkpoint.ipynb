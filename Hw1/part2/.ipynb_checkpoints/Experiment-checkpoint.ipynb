{
 "cells": [
  {
   "cell_type": "code",
   "execution_count": 1,
   "id": "9677b356",
   "metadata": {},
   "outputs": [],
   "source": [
    "import os\n",
    "import numpy as np"
   ]
  },
  {
   "cell_type": "code",
   "execution_count": 4,
   "id": "4b50ebeb",
   "metadata": {
    "scrolled": true
   },
   "outputs": [
    {
     "name": "stderr",
     "output_type": "stream",
     "text": [
      "main.cpp:83:60: warning: implicit conversion from 'int' to 'float' changes value from 2147483647 to 2147483648 [-Wimplicit-int-float-conversion]\n",
      "    values1[i] = -1.f + 4.f * static_cast<float>(rand()) / RAND_MAX;\n",
      "                                                         ~ ^~~~~~~~\n",
      "/usr/include/stdlib.h:86:18: note: expanded from macro 'RAND_MAX'\n",
      "#define RAND_MAX        2147483647\n",
      "                        ^~~~~~~~~~\n",
      "main.cpp:84:60: warning: implicit conversion from 'int' to 'float' changes value from 2147483647 to 2147483648 [-Wimplicit-int-float-conversion]\n",
      "    values2[i] = -1.f + 4.f * static_cast<float>(rand()) / RAND_MAX;\n",
      "                                                         ~ ^~~~~~~~\n",
      "/usr/include/stdlib.h:86:18: note: expanded from macro 'RAND_MAX'\n",
      "#define RAND_MAX        2147483647\n",
      "                        ^~~~~~~~~~\n",
      "2 warnings generated.\n",
      "main.cpp:83:60: warning: implicit conversion from 'int' to 'float' changes value from 2147483647 to 2147483648 [-Wimplicit-int-float-conversion]\n",
      "    values1[i] = -1.f + 4.f * static_cast<float>(rand()) / RAND_MAX;\n",
      "                                                         ~ ^~~~~~~~\n",
      "/usr/include/stdlib.h:86:18: note: expanded from macro 'RAND_MAX'\n",
      "#define RAND_MAX        2147483647\n",
      "                        ^~~~~~~~~~\n",
      "main.cpp:84:60: warning: implicit conversion from 'int' to 'float' changes value from 2147483647 to 2147483648 [-Wimplicit-int-float-conversion]\n",
      "    values2[i] = -1.f + 4.f * static_cast<float>(rand()) / RAND_MAX;\n",
      "                                                         ~ ^~~~~~~~\n",
      "/usr/include/stdlib.h:86:18: note: expanded from macro 'RAND_MAX'\n",
      "#define RAND_MAX        2147483647\n",
      "                        ^~~~~~~~~~\n",
      "2 warnings generated.\n",
      "main.cpp:83:60: warning: implicit conversion from 'int' to 'float' changes value from 2147483647 to 2147483648 [-Wimplicit-int-float-conversion]\n",
      "    values1[i] = -1.f + 4.f * static_cast<float>(rand()) / RAND_MAX;\n",
      "                                                         ~ ^~~~~~~~\n",
      "/usr/include/stdlib.h:86:18: note: expanded from macro 'RAND_MAX'\n",
      "#define RAND_MAX        2147483647\n",
      "                        ^~~~~~~~~~\n",
      "main.cpp:84:60: warning: implicit conversion from 'int' to 'float' changes value from 2147483647 to 2147483648 [-Wimplicit-int-float-conversion]\n",
      "    values2[i] = -1.f + 4.f * static_cast<float>(rand()) / RAND_MAX;\n",
      "                                                         ~ ^~~~~~~~\n",
      "/usr/include/stdlib.h:86:18: note: expanded from macro 'RAND_MAX'\n",
      "#define RAND_MAX        2147483647\n",
      "                        ^~~~~~~~~~\n",
      "2 warnings generated.\n",
      "make: *** [Makefile:45: test2.o] Interrupt\n"
     ]
    },
    {
     "ename": "KeyboardInterrupt",
     "evalue": "",
     "output_type": "error",
     "traceback": [
      "\u001b[0;31m---------------------------------------------------------------------------\u001b[0m",
      "\u001b[0;31mKeyboardInterrupt\u001b[0m                         Traceback (most recent call last)",
      "\u001b[0;32m/tmp/ipykernel_366565/2715334846.py\u001b[0m in \u001b[0;36m<module>\u001b[0;34m\u001b[0m\n\u001b[1;32m      5\u001b[0m \u001b[0;32mfor\u001b[0m \u001b[0mins\u001b[0m \u001b[0;32min\u001b[0m \u001b[0mlst\u001b[0m\u001b[0;34m:\u001b[0m\u001b[0;34m\u001b[0m\u001b[0;34m\u001b[0m\u001b[0m\n\u001b[1;32m      6\u001b[0m     \u001b[0;32mfor\u001b[0m \u001b[0mi\u001b[0m \u001b[0;32min\u001b[0m \u001b[0mrange\u001b[0m\u001b[0;34m(\u001b[0m\u001b[0msize\u001b[0m\u001b[0;34m)\u001b[0m\u001b[0;34m:\u001b[0m\u001b[0;34m\u001b[0m\u001b[0;34m\u001b[0m\u001b[0m\n\u001b[0;32m----> 7\u001b[0;31m         \u001b[0moutput\u001b[0m\u001b[0;34m[\u001b[0m\u001b[0mins\u001b[0m\u001b[0;34m]\u001b[0m\u001b[0;34m[\u001b[0m\u001b[0mi\u001b[0m\u001b[0;34m]\u001b[0m \u001b[0;34m=\u001b[0m \u001b[0mos\u001b[0m\u001b[0;34m.\u001b[0m\u001b[0mpopen\u001b[0m\u001b[0;34m(\u001b[0m\u001b[0;34mf'make clean && {ins} && ./test_auto_vectorize -t {ID} | grep -o \"[0-9]*\\.[0-9]*sec\" | grep -o \"[0-9*\\.[0-9]*\"'\u001b[0m\u001b[0;34m)\u001b[0m\u001b[0;34m.\u001b[0m\u001b[0mread\u001b[0m\u001b[0;34m(\u001b[0m\u001b[0;34m)\u001b[0m\u001b[0;34m\u001b[0m\u001b[0;34m\u001b[0m\u001b[0m\n\u001b[0m\u001b[1;32m      8\u001b[0m \u001b[0;34m\u001b[0m\u001b[0m\n\u001b[1;32m      9\u001b[0m     \u001b[0;31m#break\u001b[0m\u001b[0;34m\u001b[0m\u001b[0;34m\u001b[0m\u001b[0;34m\u001b[0m\u001b[0m\n",
      "\u001b[0;31mKeyboardInterrupt\u001b[0m: "
     ]
    }
   ],
   "source": [
    "size = 10\n",
    "for ID in range(1, 4):\n",
    "    lst = ['make', 'make VECTORIZE=1']\n",
    "    output = {key: np.zeros(size) for key in lst}\n",
    "    for ins in lst:\n",
    "        for i in range(size):\n",
    "            output[ins][i] = os.popen(f'make clean && {ins} && ./test_auto_vectorize -t {ID} | grep -o \"[0-9]*\\.[0-9]*sec\" | grep -o \"[0-9*\\.[0-9]*\"').read()\n",
    "\n",
    "        #break\n",
    "\n",
    "    # report\n",
    "    for key in output.keys():\n",
    "        mean = np.mean(output[key])\n",
    "        if key == 'make':\n",
    "            tmp = 'No Vector'\n",
    "        elif key == 'make VECTORIZE=1':\n",
    "            tmp = 'Vector'\n",
    "        print(f'{tmp}: {mean:.4f}sec in average (execute 10 times).')"
   ]
  },
  {
   "cell_type": "code",
   "execution_count": null,
   "id": "54356bd2",
   "metadata": {},
   "outputs": [],
   "source": []
  },
  {
   "cell_type": "code",
   "execution_count": null,
   "id": "2d17c266",
   "metadata": {},
   "outputs": [],
   "source": [
    "7.6135 / 2.4231"
   ]
  },
  {
   "cell_type": "code",
   "execution_count": null,
   "id": "344d34ab",
   "metadata": {},
   "outputs": [],
   "source": []
  }
 ],
 "metadata": {
  "kernelspec": {
   "display_name": "Python 3 (ipykernel)",
   "language": "python",
   "name": "python3"
  },
  "language_info": {
   "codemirror_mode": {
    "name": "ipython",
    "version": 3
   },
   "file_extension": ".py",
   "mimetype": "text/x-python",
   "name": "python",
   "nbconvert_exporter": "python",
   "pygments_lexer": "ipython3",
   "version": "3.8.10"
  }
 },
 "nbformat": 4,
 "nbformat_minor": 5
}
